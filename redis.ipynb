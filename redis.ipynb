{
 "cells": [
  {
   "cell_type": "code",
   "execution_count": 13,
   "metadata": {},
   "outputs": [],
   "source": [
    "import plotly as plt\n",
    "import plotly.io as pio\n",
    "\n",
    "def parseLog(fname: str):\n",
    "    with open(fname, 'r') as f:\n",
    "        lines = f.readlines()\n",
    "    d = dict()\n",
    "    for line in lines:\n",
    "        parts = line.strip().split()\n",
    "        tmoment, pgtime, redistime = map(float, parts)\n",
    "        d[tmoment] = {\"postgres\": pgtime, \"redis\": redistime}\n",
    "    return d"
   ]
  },
  {
   "cell_type": "code",
   "execution_count": null,
   "metadata": {},
   "outputs": [],
   "source": [
    "d = parseLog(\"get.log\")\n",
    "\n",
    "\n",
    "graph = plt.graph_objs.Figure()\n",
    "graph.add_scatter(x=list(d.keys()), y=[el['postgres'] for el in d.values()], marker_color=\"#00FFFF\", name=\"Postgres\")\n",
    "graph.add_scatter(x=list(d.keys()), y=[el['redis'] for el in d.values()], marker_color=\"#FF00FF\", name=\"Redis and Postgres\")\n",
    "graph.update_layout(xaxis_title=\"Время начала запроса\", yaxis_title=\"Время выполнения запроса\")\n",
    "graph.update_layout(title='Получение данных без изменения БД')\n",
    "graph.show()"
   ]
  },
  {
   "cell_type": "code",
   "execution_count": null,
   "metadata": {},
   "outputs": [],
   "source": [
    "d = parseLog(\"create.log\")\n",
    "\n",
    "\n",
    "graph = plt.graph_objs.Figure()\n",
    "graph.add_scatter(x=list(d.keys()), y=[el['postgres'] for el in d.values()], marker_color=\"#00FFFF\", name=\"Postgres\")\n",
    "graph.add_scatter(x=list(d.keys()), y=[el['redis'] for el in d.values()], marker_color=\"#FF00FF\", name=\"Redis and Postgres\")\n",
    "graph.update_layout(xaxis_title=\"Время начала запроса\", yaxis_title=\"Время выполнения запроса\")\n",
    "graph.update_layout(title='Получение данных при создании аккаунтов каждые 10 секунд')\n",
    "graph.show()"
   ]
  },
  {
   "cell_type": "code",
   "execution_count": null,
   "metadata": {},
   "outputs": [],
   "source": [
    "d = parseLog(\"delete.log\")\n",
    "\n",
    "\n",
    "graph = plt.graph_objs.Figure()\n",
    "graph.add_scatter(x=list(d.keys()), y=[el['postgres'] for el in d.values()], marker_color=\"#00FFFF\", name=\"Postgres\")\n",
    "graph.add_scatter(x=list(d.keys()), y=[el['redis'] for el in d.values()], marker_color=\"#FF00FF\", name=\"Redis and Postgres\")\n",
    "graph.update_layout(xaxis_title=\"Время начала запроса\", yaxis_title=\"Время выполнения запроса\")\n",
    "graph.update_layout(title='Получение данных при удалении аккаунта каждые 10 секунд')\n",
    "graph.show()"
   ]
  },
  {
   "cell_type": "code",
   "execution_count": null,
   "metadata": {},
   "outputs": [],
   "source": [
    "d = parseLog(\"update.log\")\n",
    "\n",
    "\n",
    "graph = plt.graph_objs.Figure()\n",
    "graph.add_scatter(x=list(d.keys()), y=[el['postgres'] for el in d.values()], marker_color=\"#00FFFF\", name=\"Postgres\")\n",
    "graph.add_scatter(x=list(d.keys()), y=[el['redis'] for el in d.values()], marker_color=\"#FF00FF\", name=\"Redis and Postgres\")\n",
    "graph.update_layout(xaxis_title=\"Время начала запроса\", yaxis_title=\"Время выполнения запроса\")\n",
    "graph.update_layout(title='Получение данных при обновлении аккаунта каждые 10 секунд')\n",
    "graph.show()"
   ]
  }
 ],
 "metadata": {
  "kernelspec": {
   "display_name": "Python 3",
   "language": "python",
   "name": "python3"
  },
  "language_info": {
   "codemirror_mode": {
    "name": "ipython",
    "version": 3
   },
   "file_extension": ".py",
   "mimetype": "text/x-python",
   "name": "python",
   "nbconvert_exporter": "python",
   "pygments_lexer": "ipython3",
   "version": "3.12.7"
  }
 },
 "nbformat": 4,
 "nbformat_minor": 2
}
